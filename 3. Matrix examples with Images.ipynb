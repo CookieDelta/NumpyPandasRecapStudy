{
 "cells": [
  {
   "cell_type": "markdown",
   "metadata": {},
   "source": [
    "# MAtrix examples with images\n",
    "\n",
    "In this notebook, I'm going to work with some matrices that represent numbers"
   ]
  }
 ],
 "metadata": {
  "language_info": {
   "name": "python"
  }
 },
 "nbformat": 4,
 "nbformat_minor": 2
}
