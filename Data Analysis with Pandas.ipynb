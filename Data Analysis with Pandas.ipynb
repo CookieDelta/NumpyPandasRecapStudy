{
 "cells": [
  {
   "cell_type": "code",
   "execution_count": 2,
   "metadata": {},
   "outputs": [],
   "source": [
    "import pandas as pd\n",
    "import numpy as np"
   ]
  },
  {
   "cell_type": "code",
   "execution_count": 2,
   "metadata": {},
   "outputs": [],
   "source": [
    "#with open('flights.csv','r') as file:\n",
    "#    data = file.read().rstrip(',')"
   ]
  },
  {
   "cell_type": "code",
   "execution_count": 3,
   "metadata": {},
   "outputs": [],
   "source": [
    "#from io import StringIO\n",
    "#data_flights = pd.read_csv(StringIO(data))"
   ]
  },
  {
   "cell_type": "code",
   "execution_count": 3,
   "metadata": {},
   "outputs": [],
   "source": [
    "flights = pd.read_csv('flights.csv', index_col=False)"
   ]
  },
  {
   "cell_type": "code",
   "execution_count": 5,
   "metadata": {},
   "outputs": [
    {
     "data": {
      "text/html": [
       "<div>\n",
       "<style scoped>\n",
       "    .dataframe tbody tr th:only-of-type {\n",
       "        vertical-align: middle;\n",
       "    }\n",
       "\n",
       "    .dataframe tbody tr th {\n",
       "        vertical-align: top;\n",
       "    }\n",
       "\n",
       "    .dataframe thead th {\n",
       "        text-align: right;\n",
       "    }\n",
       "</style>\n",
       "<table border=\"1\" class=\"dataframe\">\n",
       "  <thead>\n",
       "    <tr style=\"text-align: right;\">\n",
       "      <th></th>\n",
       "      <th>YEAR</th>\n",
       "      <th>MONTH</th>\n",
       "      <th>DAY_OF_MONTH</th>\n",
       "      <th>DAY_OF_WEEK</th>\n",
       "      <th>FL_DATE</th>\n",
       "      <th>AIRLINE_ID</th>\n",
       "      <th>TAIL_NUM</th>\n",
       "      <th>ORIGIN</th>\n",
       "      <th>ORIGIN_CITY_NAME</th>\n",
       "      <th>ORIGIN_STATE_NM</th>\n",
       "      <th>...</th>\n",
       "      <th>TAXI_OUT</th>\n",
       "      <th>TAXI_IN</th>\n",
       "      <th>CRS_ARR_TIME</th>\n",
       "      <th>ARR_TIME</th>\n",
       "      <th>CANCELLED</th>\n",
       "      <th>DIVERTED</th>\n",
       "      <th>CRS_ELAPSED_TIME</th>\n",
       "      <th>ACTUAL_ELAPSED_TIME</th>\n",
       "      <th>AIR_TIME</th>\n",
       "      <th>DISTANCE</th>\n",
       "    </tr>\n",
       "  </thead>\n",
       "  <tbody>\n",
       "    <tr>\n",
       "      <th>0</th>\n",
       "      <td>2017</td>\n",
       "      <td>1</td>\n",
       "      <td>18</td>\n",
       "      <td>3</td>\n",
       "      <td>2017-01-18</td>\n",
       "      <td>19977</td>\n",
       "      <td>N426UA</td>\n",
       "      <td>RNO</td>\n",
       "      <td>Reno, NV</td>\n",
       "      <td>Nevada</td>\n",
       "      <td>...</td>\n",
       "      <td>17.0</td>\n",
       "      <td>6.0</td>\n",
       "      <td>903</td>\n",
       "      <td>844.0</td>\n",
       "      <td>0.0</td>\n",
       "      <td>0.0</td>\n",
       "      <td>138.0</td>\n",
       "      <td>130.0</td>\n",
       "      <td>107.0</td>\n",
       "      <td>804.0</td>\n",
       "    </tr>\n",
       "    <tr>\n",
       "      <th>1</th>\n",
       "      <td>2017</td>\n",
       "      <td>1</td>\n",
       "      <td>19</td>\n",
       "      <td>4</td>\n",
       "      <td>2017-01-19</td>\n",
       "      <td>20366</td>\n",
       "      <td>N371CA</td>\n",
       "      <td>LGA</td>\n",
       "      <td>New York, NY</td>\n",
       "      <td>New York</td>\n",
       "      <td>...</td>\n",
       "      <td>32.0</td>\n",
       "      <td>4.0</td>\n",
       "      <td>2242</td>\n",
       "      <td>2236.0</td>\n",
       "      <td>0.0</td>\n",
       "      <td>0.0</td>\n",
       "      <td>222.0</td>\n",
       "      <td>189.0</td>\n",
       "      <td>153.0</td>\n",
       "      <td>1107.0</td>\n",
       "    </tr>\n",
       "    <tr>\n",
       "      <th>2</th>\n",
       "      <td>2017</td>\n",
       "      <td>1</td>\n",
       "      <td>22</td>\n",
       "      <td>7</td>\n",
       "      <td>2017-01-22</td>\n",
       "      <td>19393</td>\n",
       "      <td>N7829B</td>\n",
       "      <td>BWI</td>\n",
       "      <td>Baltimore, MD</td>\n",
       "      <td>Maryland</td>\n",
       "      <td>...</td>\n",
       "      <td>8.0</td>\n",
       "      <td>5.0</td>\n",
       "      <td>1230</td>\n",
       "      <td>1254.0</td>\n",
       "      <td>0.0</td>\n",
       "      <td>0.0</td>\n",
       "      <td>60.0</td>\n",
       "      <td>53.0</td>\n",
       "      <td>40.0</td>\n",
       "      <td>220.0</td>\n",
       "    </tr>\n",
       "    <tr>\n",
       "      <th>3</th>\n",
       "      <td>2017</td>\n",
       "      <td>1</td>\n",
       "      <td>12</td>\n",
       "      <td>4</td>\n",
       "      <td>2017-01-12</td>\n",
       "      <td>19790</td>\n",
       "      <td>N915AT</td>\n",
       "      <td>JFK</td>\n",
       "      <td>New York, NY</td>\n",
       "      <td>New York</td>\n",
       "      <td>...</td>\n",
       "      <td>27.0</td>\n",
       "      <td>7.0</td>\n",
       "      <td>1135</td>\n",
       "      <td>1112.0</td>\n",
       "      <td>0.0</td>\n",
       "      <td>0.0</td>\n",
       "      <td>145.0</td>\n",
       "      <td>131.0</td>\n",
       "      <td>97.0</td>\n",
       "      <td>636.0</td>\n",
       "    </tr>\n",
       "    <tr>\n",
       "      <th>4</th>\n",
       "      <td>2017</td>\n",
       "      <td>1</td>\n",
       "      <td>30</td>\n",
       "      <td>1</td>\n",
       "      <td>2017-01-30</td>\n",
       "      <td>20409</td>\n",
       "      <td>N659JB</td>\n",
       "      <td>MCO</td>\n",
       "      <td>Orlando, FL</td>\n",
       "      <td>Florida</td>\n",
       "      <td>...</td>\n",
       "      <td>14.0</td>\n",
       "      <td>3.0</td>\n",
       "      <td>1405</td>\n",
       "      <td>1354.0</td>\n",
       "      <td>0.0</td>\n",
       "      <td>0.0</td>\n",
       "      <td>159.0</td>\n",
       "      <td>154.0</td>\n",
       "      <td>137.0</td>\n",
       "      <td>1072.0</td>\n",
       "    </tr>\n",
       "  </tbody>\n",
       "</table>\n",
       "<p>5 rows × 25 columns</p>\n",
       "</div>"
      ],
      "text/plain": [
       "   YEAR  MONTH  DAY_OF_MONTH  DAY_OF_WEEK     FL_DATE  AIRLINE_ID TAIL_NUM  \\\n",
       "0  2017      1            18            3  2017-01-18       19977   N426UA   \n",
       "1  2017      1            19            4  2017-01-19       20366   N371CA   \n",
       "2  2017      1            22            7  2017-01-22       19393   N7829B   \n",
       "3  2017      1            12            4  2017-01-12       19790   N915AT   \n",
       "4  2017      1            30            1  2017-01-30       20409   N659JB   \n",
       "\n",
       "  ORIGIN ORIGIN_CITY_NAME ORIGIN_STATE_NM  ... TAXI_OUT TAXI_IN CRS_ARR_TIME  \\\n",
       "0    RNO         Reno, NV          Nevada  ...     17.0     6.0          903   \n",
       "1    LGA     New York, NY        New York  ...     32.0     4.0         2242   \n",
       "2    BWI    Baltimore, MD        Maryland  ...      8.0     5.0         1230   \n",
       "3    JFK     New York, NY        New York  ...     27.0     7.0         1135   \n",
       "4    MCO      Orlando, FL         Florida  ...     14.0     3.0         1405   \n",
       "\n",
       "   ARR_TIME  CANCELLED  DIVERTED  CRS_ELAPSED_TIME  ACTUAL_ELAPSED_TIME  \\\n",
       "0     844.0        0.0       0.0             138.0                130.0   \n",
       "1    2236.0        0.0       0.0             222.0                189.0   \n",
       "2    1254.0        0.0       0.0              60.0                 53.0   \n",
       "3    1112.0        0.0       0.0             145.0                131.0   \n",
       "4    1354.0        0.0       0.0             159.0                154.0   \n",
       "\n",
       "   AIR_TIME  DISTANCE  \n",
       "0     107.0     804.0  \n",
       "1     153.0    1107.0  \n",
       "2      40.0     220.0  \n",
       "3      97.0     636.0  \n",
       "4     137.0    1072.0  \n",
       "\n",
       "[5 rows x 25 columns]"
      ]
     },
     "execution_count": 5,
     "metadata": {},
     "output_type": "execute_result"
    }
   ],
   "source": [
    "flights.head()"
   ]
  },
  {
   "cell_type": "markdown",
   "metadata": {},
   "source": [
    "Data cleaning"
   ]
  },
  {
   "cell_type": "code",
   "execution_count": 6,
   "metadata": {},
   "outputs": [
    {
     "data": {
      "text/plain": [
       "count    600000.000000\n",
       "mean        855.988945\n",
       "std         623.733127\n",
       "min          31.000000\n",
       "25%         391.000000\n",
       "50%         680.000000\n",
       "75%        1097.000000\n",
       "max        4983.000000\n",
       "Name: DISTANCE, dtype: float64"
      ]
     },
     "execution_count": 6,
     "metadata": {},
     "output_type": "execute_result"
    }
   ],
   "source": [
    "flights['DISTANCE'].describe()"
   ]
  },
  {
   "cell_type": "code",
   "execution_count": 7,
   "metadata": {},
   "outputs": [
    {
     "data": {
      "text/plain": [
       "YEAR                     int64\n",
       "MONTH                    int64\n",
       "DAY_OF_MONTH             int64\n",
       "DAY_OF_WEEK              int64\n",
       "FL_DATE                 object\n",
       "AIRLINE_ID               int64\n",
       "TAIL_NUM                object\n",
       "ORIGIN                  object\n",
       "ORIGIN_CITY_NAME        object\n",
       "ORIGIN_STATE_NM         object\n",
       "DEST                    object\n",
       "DEST_CITY_NAME          object\n",
       "DEST_STATE_NM           object\n",
       "CRS_DEP_TIME             int64\n",
       "DEP_TIME               float64\n",
       "TAXI_OUT               float64\n",
       "TAXI_IN                float64\n",
       "CRS_ARR_TIME             int64\n",
       "ARR_TIME               float64\n",
       "CANCELLED              float64\n",
       "DIVERTED               float64\n",
       "CRS_ELAPSED_TIME       float64\n",
       "ACTUAL_ELAPSED_TIME    float64\n",
       "AIR_TIME               float64\n",
       "DISTANCE               float64\n",
       "dtype: object"
      ]
     },
     "execution_count": 7,
     "metadata": {},
     "output_type": "execute_result"
    }
   ],
   "source": [
    "flights.dtypes"
   ]
  },
  {
   "cell_type": "code",
   "execution_count": 8,
   "metadata": {},
   "outputs": [],
   "source": [
    "flights['FL_DATE'] = pd.to_datetime(flights['FL_DATE'])"
   ]
  },
  {
   "cell_type": "code",
   "execution_count": 9,
   "metadata": {},
   "outputs": [
    {
     "data": {
      "text/plain": [
       "YEAR                            int64\n",
       "MONTH                           int64\n",
       "DAY_OF_MONTH                    int64\n",
       "DAY_OF_WEEK                     int64\n",
       "FL_DATE                datetime64[ns]\n",
       "AIRLINE_ID                      int64\n",
       "TAIL_NUM                       object\n",
       "ORIGIN                         object\n",
       "ORIGIN_CITY_NAME               object\n",
       "ORIGIN_STATE_NM                object\n",
       "DEST                           object\n",
       "DEST_CITY_NAME                 object\n",
       "DEST_STATE_NM                  object\n",
       "CRS_DEP_TIME                    int64\n",
       "DEP_TIME                      float64\n",
       "TAXI_OUT                      float64\n",
       "TAXI_IN                       float64\n",
       "CRS_ARR_TIME                    int64\n",
       "ARR_TIME                      float64\n",
       "CANCELLED                     float64\n",
       "DIVERTED                      float64\n",
       "CRS_ELAPSED_TIME              float64\n",
       "ACTUAL_ELAPSED_TIME           float64\n",
       "AIR_TIME                      float64\n",
       "DISTANCE                      float64\n",
       "dtype: object"
      ]
     },
     "execution_count": 9,
     "metadata": {},
     "output_type": "execute_result"
    }
   ],
   "source": [
    "flights.dtypes"
   ]
  },
  {
   "cell_type": "code",
   "execution_count": 10,
   "metadata": {},
   "outputs": [],
   "source": [
    "flights['CANCELLED'] = flights['CANCELLED'].astype(np.bool)\n",
    "flights['DIVERTED'] = flights['DIVERTED'].astype(np.bool)"
   ]
  },
  {
   "cell_type": "code",
   "execution_count": 11,
   "metadata": {},
   "outputs": [
    {
     "data": {
      "text/plain": [
       "YEAR                            int64\n",
       "MONTH                           int64\n",
       "DAY_OF_MONTH                    int64\n",
       "DAY_OF_WEEK                     int64\n",
       "FL_DATE                datetime64[ns]\n",
       "AIRLINE_ID                      int64\n",
       "TAIL_NUM                       object\n",
       "ORIGIN                         object\n",
       "ORIGIN_CITY_NAME               object\n",
       "ORIGIN_STATE_NM                object\n",
       "DEST                           object\n",
       "DEST_CITY_NAME                 object\n",
       "DEST_STATE_NM                  object\n",
       "CRS_DEP_TIME                    int64\n",
       "DEP_TIME                      float64\n",
       "TAXI_OUT                      float64\n",
       "TAXI_IN                       float64\n",
       "CRS_ARR_TIME                    int64\n",
       "ARR_TIME                      float64\n",
       "CANCELLED                        bool\n",
       "DIVERTED                         bool\n",
       "CRS_ELAPSED_TIME              float64\n",
       "ACTUAL_ELAPSED_TIME           float64\n",
       "AIR_TIME                      float64\n",
       "DISTANCE                      float64\n",
       "dtype: object"
      ]
     },
     "execution_count": 11,
     "metadata": {},
     "output_type": "execute_result"
    }
   ],
   "source": [
    "flights.dtypes"
   ]
  },
  {
   "cell_type": "code",
   "execution_count": 12,
   "metadata": {},
   "outputs": [],
   "source": [
    "#Drop the redundant columns (year, month, day of month)\n",
    "#flights.drop(columns=['YEAR', 'MONTH','DAY_OF_MONTH'], inplace=True)"
   ]
  },
  {
   "cell_type": "code",
   "execution_count": 13,
   "metadata": {},
   "outputs": [
    {
     "data": {
      "text/plain": [
       "DAY_OF_WEEK                     int64\n",
       "FL_DATE                datetime64[ns]\n",
       "AIRLINE_ID                      int64\n",
       "TAIL_NUM                       object\n",
       "ORIGIN                         object\n",
       "ORIGIN_CITY_NAME               object\n",
       "ORIGIN_STATE_NM                object\n",
       "DEST                           object\n",
       "DEST_CITY_NAME                 object\n",
       "DEST_STATE_NM                  object\n",
       "CRS_DEP_TIME                    int64\n",
       "DEP_TIME                      float64\n",
       "TAXI_OUT                      float64\n",
       "TAXI_IN                       float64\n",
       "CRS_ARR_TIME                    int64\n",
       "ARR_TIME                      float64\n",
       "CANCELLED                        bool\n",
       "DIVERTED                         bool\n",
       "CRS_ELAPSED_TIME              float64\n",
       "ACTUAL_ELAPSED_TIME           float64\n",
       "AIR_TIME                      float64\n",
       "DISTANCE                      float64\n",
       "dtype: object"
      ]
     },
     "execution_count": 13,
     "metadata": {},
     "output_type": "execute_result"
    }
   ],
   "source": [
    "flights.dtypes"
   ]
  },
  {
   "cell_type": "code",
   "execution_count": 14,
   "metadata": {},
   "outputs": [],
   "source": [
    "#rename columns\n",
    "flights.rename(columns={'DEST':'DESTINATION'}, inplace=True)    # dictionary is gonna tell us what columns we are starting from, \n",
    "                                                # what column do we want to map the new name to\n",
    "                                                # all the keys represent columns that are in the database"
   ]
  },
  {
   "cell_type": "code",
   "execution_count": 15,
   "metadata": {},
   "outputs": [
    {
     "data": {
      "text/html": [
       "<div>\n",
       "<style scoped>\n",
       "    .dataframe tbody tr th:only-of-type {\n",
       "        vertical-align: middle;\n",
       "    }\n",
       "\n",
       "    .dataframe tbody tr th {\n",
       "        vertical-align: top;\n",
       "    }\n",
       "\n",
       "    .dataframe thead th {\n",
       "        text-align: right;\n",
       "    }\n",
       "</style>\n",
       "<table border=\"1\" class=\"dataframe\">\n",
       "  <thead>\n",
       "    <tr style=\"text-align: right;\">\n",
       "      <th></th>\n",
       "      <th>DAY_OF_WEEK</th>\n",
       "      <th>FL_DATE</th>\n",
       "      <th>AIRLINE_ID</th>\n",
       "      <th>TAIL_NUM</th>\n",
       "      <th>ORIGIN</th>\n",
       "      <th>ORIGIN_CITY_NAME</th>\n",
       "      <th>ORIGIN_STATE_NM</th>\n",
       "      <th>DESTINATION</th>\n",
       "      <th>DEST_CITY_NAME</th>\n",
       "      <th>DEST_STATE_NM</th>\n",
       "      <th>...</th>\n",
       "      <th>TAXI_OUT</th>\n",
       "      <th>TAXI_IN</th>\n",
       "      <th>CRS_ARR_TIME</th>\n",
       "      <th>ARR_TIME</th>\n",
       "      <th>CANCELLED</th>\n",
       "      <th>DIVERTED</th>\n",
       "      <th>CRS_ELAPSED_TIME</th>\n",
       "      <th>ACTUAL_ELAPSED_TIME</th>\n",
       "      <th>AIR_TIME</th>\n",
       "      <th>DISTANCE</th>\n",
       "    </tr>\n",
       "  </thead>\n",
       "  <tbody>\n",
       "    <tr>\n",
       "      <th>599995</th>\n",
       "      <td>3</td>\n",
       "      <td>2017-12-06</td>\n",
       "      <td>19690</td>\n",
       "      <td>N489HA</td>\n",
       "      <td>ITO</td>\n",
       "      <td>Hilo, HI</td>\n",
       "      <td>Hawaii</td>\n",
       "      <td>OGG</td>\n",
       "      <td>Kahului, HI</td>\n",
       "      <td>Hawaii</td>\n",
       "      <td>...</td>\n",
       "      <td>8.0</td>\n",
       "      <td>5.0</td>\n",
       "      <td>1052</td>\n",
       "      <td>1038.0</td>\n",
       "      <td>False</td>\n",
       "      <td>False</td>\n",
       "      <td>41.0</td>\n",
       "      <td>38.0</td>\n",
       "      <td>25.0</td>\n",
       "      <td>121.0</td>\n",
       "    </tr>\n",
       "    <tr>\n",
       "      <th>599996</th>\n",
       "      <td>1</td>\n",
       "      <td>2017-12-04</td>\n",
       "      <td>20409</td>\n",
       "      <td>N639JB</td>\n",
       "      <td>LGB</td>\n",
       "      <td>Long Beach, CA</td>\n",
       "      <td>California</td>\n",
       "      <td>SLC</td>\n",
       "      <td>Salt Lake City, UT</td>\n",
       "      <td>Utah</td>\n",
       "      <td>...</td>\n",
       "      <td>11.0</td>\n",
       "      <td>4.0</td>\n",
       "      <td>1822</td>\n",
       "      <td>1811.0</td>\n",
       "      <td>False</td>\n",
       "      <td>False</td>\n",
       "      <td>102.0</td>\n",
       "      <td>93.0</td>\n",
       "      <td>78.0</td>\n",
       "      <td>588.0</td>\n",
       "    </tr>\n",
       "    <tr>\n",
       "      <th>599997</th>\n",
       "      <td>5</td>\n",
       "      <td>2017-12-22</td>\n",
       "      <td>20436</td>\n",
       "      <td>N721FR</td>\n",
       "      <td>LAS</td>\n",
       "      <td>Las Vegas, NV</td>\n",
       "      <td>Nevada</td>\n",
       "      <td>STL</td>\n",
       "      <td>St. Louis, MO</td>\n",
       "      <td>Missouri</td>\n",
       "      <td>...</td>\n",
       "      <td>13.0</td>\n",
       "      <td>9.0</td>\n",
       "      <td>507</td>\n",
       "      <td>453.0</td>\n",
       "      <td>False</td>\n",
       "      <td>False</td>\n",
       "      <td>192.0</td>\n",
       "      <td>182.0</td>\n",
       "      <td>160.0</td>\n",
       "      <td>1371.0</td>\n",
       "    </tr>\n",
       "    <tr>\n",
       "      <th>599998</th>\n",
       "      <td>5</td>\n",
       "      <td>2017-12-22</td>\n",
       "      <td>19805</td>\n",
       "      <td>N112AA</td>\n",
       "      <td>PHL</td>\n",
       "      <td>Philadelphia, PA</td>\n",
       "      <td>Pennsylvania</td>\n",
       "      <td>PIT</td>\n",
       "      <td>Pittsburgh, PA</td>\n",
       "      <td>Pennsylvania</td>\n",
       "      <td>...</td>\n",
       "      <td>12.0</td>\n",
       "      <td>5.0</td>\n",
       "      <td>2204</td>\n",
       "      <td>2159.0</td>\n",
       "      <td>False</td>\n",
       "      <td>False</td>\n",
       "      <td>79.0</td>\n",
       "      <td>65.0</td>\n",
       "      <td>48.0</td>\n",
       "      <td>268.0</td>\n",
       "    </tr>\n",
       "    <tr>\n",
       "      <th>599999</th>\n",
       "      <td>7</td>\n",
       "      <td>2017-12-10</td>\n",
       "      <td>19977</td>\n",
       "      <td>N73270</td>\n",
       "      <td>MCO</td>\n",
       "      <td>Orlando, FL</td>\n",
       "      <td>Florida</td>\n",
       "      <td>DEN</td>\n",
       "      <td>Denver, CO</td>\n",
       "      <td>Colorado</td>\n",
       "      <td>...</td>\n",
       "      <td>9.0</td>\n",
       "      <td>7.0</td>\n",
       "      <td>1007</td>\n",
       "      <td>942.0</td>\n",
       "      <td>False</td>\n",
       "      <td>False</td>\n",
       "      <td>248.0</td>\n",
       "      <td>229.0</td>\n",
       "      <td>213.0</td>\n",
       "      <td>1546.0</td>\n",
       "    </tr>\n",
       "  </tbody>\n",
       "</table>\n",
       "<p>5 rows × 22 columns</p>\n",
       "</div>"
      ],
      "text/plain": [
       "        DAY_OF_WEEK    FL_DATE  AIRLINE_ID TAIL_NUM ORIGIN  ORIGIN_CITY_NAME  \\\n",
       "599995            3 2017-12-06       19690   N489HA    ITO          Hilo, HI   \n",
       "599996            1 2017-12-04       20409   N639JB    LGB    Long Beach, CA   \n",
       "599997            5 2017-12-22       20436   N721FR    LAS     Las Vegas, NV   \n",
       "599998            5 2017-12-22       19805   N112AA    PHL  Philadelphia, PA   \n",
       "599999            7 2017-12-10       19977   N73270    MCO       Orlando, FL   \n",
       "\n",
       "       ORIGIN_STATE_NM DESTINATION      DEST_CITY_NAME DEST_STATE_NM  ...  \\\n",
       "599995          Hawaii         OGG         Kahului, HI        Hawaii  ...   \n",
       "599996      California         SLC  Salt Lake City, UT          Utah  ...   \n",
       "599997          Nevada         STL       St. Louis, MO      Missouri  ...   \n",
       "599998    Pennsylvania         PIT      Pittsburgh, PA  Pennsylvania  ...   \n",
       "599999         Florida         DEN          Denver, CO      Colorado  ...   \n",
       "\n",
       "        TAXI_OUT  TAXI_IN  CRS_ARR_TIME  ARR_TIME  CANCELLED  DIVERTED  \\\n",
       "599995       8.0      5.0          1052    1038.0      False     False   \n",
       "599996      11.0      4.0          1822    1811.0      False     False   \n",
       "599997      13.0      9.0           507     453.0      False     False   \n",
       "599998      12.0      5.0          2204    2159.0      False     False   \n",
       "599999       9.0      7.0          1007     942.0      False     False   \n",
       "\n",
       "        CRS_ELAPSED_TIME  ACTUAL_ELAPSED_TIME  AIR_TIME  DISTANCE  \n",
       "599995              41.0                 38.0      25.0     121.0  \n",
       "599996             102.0                 93.0      78.0     588.0  \n",
       "599997             192.0                182.0     160.0    1371.0  \n",
       "599998              79.0                 65.0      48.0     268.0  \n",
       "599999             248.0                229.0     213.0    1546.0  \n",
       "\n",
       "[5 rows x 22 columns]"
      ]
     },
     "execution_count": 15,
     "metadata": {},
     "output_type": "execute_result"
    }
   ],
   "source": [
    "flights.tail()"
   ]
  },
  {
   "cell_type": "code",
   "execution_count": 27,
   "metadata": {},
   "outputs": [
    {
     "name": "stdout",
     "output_type": "stream",
     "text": [
      "YEAR                      0\n",
      "MONTH                     0\n",
      "DAY_OF_MONTH              0\n",
      "DAY_OF_WEEK               0\n",
      "FL_DATE                   0\n",
      "AIRLINE_ID                0\n",
      "TAIL_NUM               1287\n",
      "ORIGIN                    0\n",
      "ORIGIN_CITY_NAME          0\n",
      "ORIGIN_STATE_NM           0\n",
      "DEST                      0\n",
      "DEST_CITY_NAME            0\n",
      "DEST_STATE_NM             0\n",
      "CRS_DEP_TIME              0\n",
      "DEP_TIME               8290\n",
      "TAXI_OUT               8485\n",
      "TAXI_IN                8731\n",
      "CRS_ARR_TIME              0\n",
      "ARR_TIME               8731\n",
      "CANCELLED                 0\n",
      "DIVERTED                  0\n",
      "CRS_ELAPSED_TIME          0\n",
      "ACTUAL_ELAPSED_TIME    9866\n",
      "AIR_TIME               9866\n",
      "DISTANCE                  0\n",
      "dtype: int64\n"
     ]
    }
   ],
   "source": [
    "#Null values\n",
    "print(flights.isnull().sum())"
   ]
  },
  {
   "cell_type": "code",
   "execution_count": 17,
   "metadata": {},
   "outputs": [
    {
     "name": "stdout",
     "output_type": "stream",
     "text": [
      "0         11.0\n",
      "1        -27.0\n",
      "2        -71.0\n",
      "3          9.0\n",
      "4          6.0\n",
      "          ... \n",
      "599995    11.0\n",
      "599996     2.0\n",
      "599997     4.0\n",
      "599998    -9.0\n",
      "599999     6.0\n",
      "Length: 600000, dtype: float64\n"
     ]
    }
   ],
   "source": [
    "#difference in CRS department time and actual time\n",
    "print(flights['CRS_DEP_TIME']-flights['DEP_TIME'])"
   ]
  },
  {
   "cell_type": "markdown",
   "metadata": {},
   "source": [
    "Notice that in DEP_TIME column are 8290 null values, but the last output gave the full result to those values"
   ]
  },
  {
   "cell_type": "code",
   "execution_count": 19,
   "metadata": {},
   "outputs": [
    {
     "name": "stdout",
     "output_type": "stream",
     "text": [
      "0         11.0\n",
      "1        -27.0\n",
      "2        -71.0\n",
      "3          9.0\n",
      "4          6.0\n",
      "          ... \n",
      "599995    11.0\n",
      "599996     2.0\n",
      "599997     4.0\n",
      "599998    -9.0\n",
      "599999     6.0\n",
      "Length: 591710, dtype: float64\n"
     ]
    }
   ],
   "source": [
    "#drop NaN/null/missing values\n",
    "print((flights['CRS_DEP_TIME']-flights['DEP_TIME']).dropna())"
   ]
  },
  {
   "cell_type": "markdown",
   "metadata": {},
   "source": [
    "## Plot"
   ]
  },
  {
   "cell_type": "code",
   "execution_count": 20,
   "metadata": {},
   "outputs": [
    {
     "data": {
      "text/plain": [
       "<Axes: >"
      ]
     },
     "execution_count": 20,
     "metadata": {},
     "output_type": "execute_result"
    },
    {
     "data": {
      "image/png": "[encoded data removed]",
      "text/plain": [
       "<Figure size 640x480 with 1 Axes>"
      ]
     },
     "metadata": {},
     "output_type": "display_data"
    }
   ],
   "source": [
    "#histogram of expected departure times\n",
    "\n",
    "flights['CRS_DEP_TIME'].hist()"
   ]
  },
  {
   "cell_type": "code",
   "execution_count": 21,
   "metadata": {},
   "outputs": [
    {
     "data": {
      "text/plain": [
       "<Axes: >"
      ]
     },
     "execution_count": 21,
     "metadata": {},
     "output_type": "execute_result"
    },
    {
     "data": {
      "image/png": "[encoded data removed]",
      "text/plain": [
       "<Figure size 640x480 with 1 Axes>"
      ]
     },
     "metadata": {},
     "output_type": "display_data"
    }
   ],
   "source": [
    "#crs arrival time\n",
    "flights['CRS_ARR_TIME'].hist()"
   ]
  },
  {
   "cell_type": "code",
   "execution_count": 26,
   "metadata": {},
   "outputs": [
    {
     "data": {
      "text/plain": [
       "<Axes: xlabel='MONTH'>"
      ]
     },
     "execution_count": 26,
     "metadata": {},
     "output_type": "execute_result"
    },
    {
     "data": {
      "image/png": "[encoded data removed]",
      "text/plain": [
       "<Figure size 640x480 with 1 Axes>"
      ]
     },
     "metadata": {},
     "output_type": "display_data"
    }
   ],
   "source": [
    "#plot average distance that flights travel by month\n",
    "\n",
    "#create a groupby element (groups the DF by col)\n",
    "flights_by_month = flights.groupby('MONTH') \n",
    "\n",
    "#in the grouped data \"groupbyDF[Column]\" do this(np.mean), and plot it \n",
    "flights_by_month['DISTANCE'].aggregate('mean').plot() #\n",
    "\n"
   ]
  },
  {
   "cell_type": "code",
   "execution_count": 30,
   "metadata": {},
   "outputs": [
    {
     "data": {
      "text/plain": [
       "<Axes: xlabel='DAY_OF_WEEK'>"
      ]
     },
     "execution_count": 30,
     "metadata": {},
     "output_type": "execute_result"
    },
    {
     "data": {
      "image/png": "[encoded data removed]",
      "text/plain": [
       "<Figure size 640x480 with 1 Axes>"
      ]
     },
     "metadata": {},
     "output_type": "display_data"
    }
   ],
   "source": [
    "#plot the average distance of flight travel by day of the week\n",
    "\n",
    "flights_dotw =flights.groupby('DAY_OF_WEEK')\n",
    "\n",
    "#in the grouped data \"groupbyDF[Column]\" do this(np.mean), and plot it \n",
    "flights_dotw['DISTANCE'].aggregate('mean').plot()\n"
   ]
  },
  {
   "cell_type": "code",
   "execution_count": 4,
   "metadata": {},
   "outputs": [],
   "source": [
    "#Joining data from two different DF\n",
    "#as DAY_OF_WEEK is a number in flights, we can join it with another DF where \n",
    "#for each number, a string corresponds\n",
    "\n",
    "#load the mapping CSV File (days of week)\n",
    "days_of_week = pd.read_csv('L_WEEKDAYS.csv', index_col=False)\n"
   ]
  },
  {
   "cell_type": "code",
   "execution_count": 20,
   "metadata": {},
   "outputs": [],
   "source": [
    "#Merge flights with days_of_week DF\n",
    "\n",
    "merged = pd.merge(flights, days_of_week, left_on='DAY_OF_WEEK', right_on='Code')"
   ]
  },
  {
   "cell_type": "code",
   "execution_count": 21,
   "metadata": {},
   "outputs": [
    {
     "data": {
      "text/html": [
       "<div>\n",
       "<style scoped>\n",
       "    .dataframe tbody tr th:only-of-type {\n",
       "        vertical-align: middle;\n",
       "    }\n",
       "\n",
       "    .dataframe tbody tr th {\n",
       "        vertical-align: top;\n",
       "    }\n",
       "\n",
       "    .dataframe thead th {\n",
       "        text-align: right;\n",
       "    }\n",
       "</style>\n",
       "<table border=\"1\" class=\"dataframe\">\n",
       "  <thead>\n",
       "    <tr style=\"text-align: right;\">\n",
       "      <th></th>\n",
       "      <th>YEAR</th>\n",
       "      <th>MONTH</th>\n",
       "      <th>DAY_OF_MONTH</th>\n",
       "      <th>DAY_OF_WEEK</th>\n",
       "      <th>FL_DATE</th>\n",
       "      <th>AIRLINE_ID</th>\n",
       "      <th>TAIL_NUM</th>\n",
       "      <th>ORIGIN</th>\n",
       "      <th>ORIGIN_CITY_NAME</th>\n",
       "      <th>ORIGIN_STATE_NM</th>\n",
       "      <th>...</th>\n",
       "      <th>CRS_ARR_TIME</th>\n",
       "      <th>ARR_TIME</th>\n",
       "      <th>CANCELLED</th>\n",
       "      <th>DIVERTED</th>\n",
       "      <th>CRS_ELAPSED_TIME</th>\n",
       "      <th>ACTUAL_ELAPSED_TIME</th>\n",
       "      <th>AIR_TIME</th>\n",
       "      <th>DISTANCE</th>\n",
       "      <th>Code</th>\n",
       "      <th>Description</th>\n",
       "    </tr>\n",
       "  </thead>\n",
       "  <tbody>\n",
       "    <tr>\n",
       "      <th>0</th>\n",
       "      <td>2017</td>\n",
       "      <td>1</td>\n",
       "      <td>18</td>\n",
       "      <td>3</td>\n",
       "      <td>2017-01-18</td>\n",
       "      <td>19977</td>\n",
       "      <td>N426UA</td>\n",
       "      <td>RNO</td>\n",
       "      <td>Reno, NV</td>\n",
       "      <td>Nevada</td>\n",
       "      <td>...</td>\n",
       "      <td>903</td>\n",
       "      <td>844.0</td>\n",
       "      <td>0.0</td>\n",
       "      <td>0.0</td>\n",
       "      <td>138.0</td>\n",
       "      <td>130.0</td>\n",
       "      <td>107.0</td>\n",
       "      <td>804.0</td>\n",
       "      <td>3</td>\n",
       "      <td>Wednesday</td>\n",
       "    </tr>\n",
       "    <tr>\n",
       "      <th>1</th>\n",
       "      <td>2017</td>\n",
       "      <td>1</td>\n",
       "      <td>19</td>\n",
       "      <td>4</td>\n",
       "      <td>2017-01-19</td>\n",
       "      <td>20366</td>\n",
       "      <td>N371CA</td>\n",
       "      <td>LGA</td>\n",
       "      <td>New York, NY</td>\n",
       "      <td>New York</td>\n",
       "      <td>...</td>\n",
       "      <td>2242</td>\n",
       "      <td>2236.0</td>\n",
       "      <td>0.0</td>\n",
       "      <td>0.0</td>\n",
       "      <td>222.0</td>\n",
       "      <td>189.0</td>\n",
       "      <td>153.0</td>\n",
       "      <td>1107.0</td>\n",
       "      <td>4</td>\n",
       "      <td>Thursday</td>\n",
       "    </tr>\n",
       "    <tr>\n",
       "      <th>2</th>\n",
       "      <td>2017</td>\n",
       "      <td>1</td>\n",
       "      <td>22</td>\n",
       "      <td>7</td>\n",
       "      <td>2017-01-22</td>\n",
       "      <td>19393</td>\n",
       "      <td>N7829B</td>\n",
       "      <td>BWI</td>\n",
       "      <td>Baltimore, MD</td>\n",
       "      <td>Maryland</td>\n",
       "      <td>...</td>\n",
       "      <td>1230</td>\n",
       "      <td>1254.0</td>\n",
       "      <td>0.0</td>\n",
       "      <td>0.0</td>\n",
       "      <td>60.0</td>\n",
       "      <td>53.0</td>\n",
       "      <td>40.0</td>\n",
       "      <td>220.0</td>\n",
       "      <td>7</td>\n",
       "      <td>Sunday</td>\n",
       "    </tr>\n",
       "    <tr>\n",
       "      <th>3</th>\n",
       "      <td>2017</td>\n",
       "      <td>1</td>\n",
       "      <td>12</td>\n",
       "      <td>4</td>\n",
       "      <td>2017-01-12</td>\n",
       "      <td>19790</td>\n",
       "      <td>N915AT</td>\n",
       "      <td>JFK</td>\n",
       "      <td>New York, NY</td>\n",
       "      <td>New York</td>\n",
       "      <td>...</td>\n",
       "      <td>1135</td>\n",
       "      <td>1112.0</td>\n",
       "      <td>0.0</td>\n",
       "      <td>0.0</td>\n",
       "      <td>145.0</td>\n",
       "      <td>131.0</td>\n",
       "      <td>97.0</td>\n",
       "      <td>636.0</td>\n",
       "      <td>4</td>\n",
       "      <td>Thursday</td>\n",
       "    </tr>\n",
       "    <tr>\n",
       "      <th>4</th>\n",
       "      <td>2017</td>\n",
       "      <td>1</td>\n",
       "      <td>30</td>\n",
       "      <td>1</td>\n",
       "      <td>2017-01-30</td>\n",
       "      <td>20409</td>\n",
       "      <td>N659JB</td>\n",
       "      <td>MCO</td>\n",
       "      <td>Orlando, FL</td>\n",
       "      <td>Florida</td>\n",
       "      <td>...</td>\n",
       "      <td>1405</td>\n",
       "      <td>1354.0</td>\n",
       "      <td>0.0</td>\n",
       "      <td>0.0</td>\n",
       "      <td>159.0</td>\n",
       "      <td>154.0</td>\n",
       "      <td>137.0</td>\n",
       "      <td>1072.0</td>\n",
       "      <td>1</td>\n",
       "      <td>Monday</td>\n",
       "    </tr>\n",
       "    <tr>\n",
       "      <th>...</th>\n",
       "      <td>...</td>\n",
       "      <td>...</td>\n",
       "      <td>...</td>\n",
       "      <td>...</td>\n",
       "      <td>...</td>\n",
       "      <td>...</td>\n",
       "      <td>...</td>\n",
       "      <td>...</td>\n",
       "      <td>...</td>\n",
       "      <td>...</td>\n",
       "      <td>...</td>\n",
       "      <td>...</td>\n",
       "      <td>...</td>\n",
       "      <td>...</td>\n",
       "      <td>...</td>\n",
       "      <td>...</td>\n",
       "      <td>...</td>\n",
       "      <td>...</td>\n",
       "      <td>...</td>\n",
       "      <td>...</td>\n",
       "      <td>...</td>\n",
       "    </tr>\n",
       "    <tr>\n",
       "      <th>599995</th>\n",
       "      <td>2017</td>\n",
       "      <td>12</td>\n",
       "      <td>6</td>\n",
       "      <td>3</td>\n",
       "      <td>2017-12-06</td>\n",
       "      <td>19690</td>\n",
       "      <td>N489HA</td>\n",
       "      <td>ITO</td>\n",
       "      <td>Hilo, HI</td>\n",
       "      <td>Hawaii</td>\n",
       "      <td>...</td>\n",
       "      <td>1052</td>\n",
       "      <td>1038.0</td>\n",
       "      <td>0.0</td>\n",
       "      <td>0.0</td>\n",
       "      <td>41.0</td>\n",
       "      <td>38.0</td>\n",
       "      <td>25.0</td>\n",
       "      <td>121.0</td>\n",
       "      <td>3</td>\n",
       "      <td>Wednesday</td>\n",
       "    </tr>\n",
       "    <tr>\n",
       "      <th>599996</th>\n",
       "      <td>2017</td>\n",
       "      <td>12</td>\n",
       "      <td>4</td>\n",
       "      <td>1</td>\n",
       "      <td>2017-12-04</td>\n",
       "      <td>20409</td>\n",
       "      <td>N639JB</td>\n",
       "      <td>LGB</td>\n",
       "      <td>Long Beach, CA</td>\n",
       "      <td>California</td>\n",
       "      <td>...</td>\n",
       "      <td>1822</td>\n",
       "      <td>1811.0</td>\n",
       "      <td>0.0</td>\n",
       "      <td>0.0</td>\n",
       "      <td>102.0</td>\n",
       "      <td>93.0</td>\n",
       "      <td>78.0</td>\n",
       "      <td>588.0</td>\n",
       "      <td>1</td>\n",
       "      <td>Monday</td>\n",
       "    </tr>\n",
       "    <tr>\n",
       "      <th>599997</th>\n",
       "      <td>2017</td>\n",
       "      <td>12</td>\n",
       "      <td>22</td>\n",
       "      <td>5</td>\n",
       "      <td>2017-12-22</td>\n",
       "      <td>20436</td>\n",
       "      <td>N721FR</td>\n",
       "      <td>LAS</td>\n",
       "      <td>Las Vegas, NV</td>\n",
       "      <td>Nevada</td>\n",
       "      <td>...</td>\n",
       "      <td>507</td>\n",
       "      <td>453.0</td>\n",
       "      <td>0.0</td>\n",
       "      <td>0.0</td>\n",
       "      <td>192.0</td>\n",
       "      <td>182.0</td>\n",
       "      <td>160.0</td>\n",
       "      <td>1371.0</td>\n",
       "      <td>5</td>\n",
       "      <td>Friday</td>\n",
       "    </tr>\n",
       "    <tr>\n",
       "      <th>599998</th>\n",
       "      <td>2017</td>\n",
       "      <td>12</td>\n",
       "      <td>22</td>\n",
       "      <td>5</td>\n",
       "      <td>2017-12-22</td>\n",
       "      <td>19805</td>\n",
       "      <td>N112AA</td>\n",
       "      <td>PHL</td>\n",
       "      <td>Philadelphia, PA</td>\n",
       "      <td>Pennsylvania</td>\n",
       "      <td>...</td>\n",
       "      <td>2204</td>\n",
       "      <td>2159.0</td>\n",
       "      <td>0.0</td>\n",
       "      <td>0.0</td>\n",
       "      <td>79.0</td>\n",
       "      <td>65.0</td>\n",
       "      <td>48.0</td>\n",
       "      <td>268.0</td>\n",
       "      <td>5</td>\n",
       "      <td>Friday</td>\n",
       "    </tr>\n",
       "    <tr>\n",
       "      <th>599999</th>\n",
       "      <td>2017</td>\n",
       "      <td>12</td>\n",
       "      <td>10</td>\n",
       "      <td>7</td>\n",
       "      <td>2017-12-10</td>\n",
       "      <td>19977</td>\n",
       "      <td>N73270</td>\n",
       "      <td>MCO</td>\n",
       "      <td>Orlando, FL</td>\n",
       "      <td>Florida</td>\n",
       "      <td>...</td>\n",
       "      <td>1007</td>\n",
       "      <td>942.0</td>\n",
       "      <td>0.0</td>\n",
       "      <td>0.0</td>\n",
       "      <td>248.0</td>\n",
       "      <td>229.0</td>\n",
       "      <td>213.0</td>\n",
       "      <td>1546.0</td>\n",
       "      <td>7</td>\n",
       "      <td>Sunday</td>\n",
       "    </tr>\n",
       "  </tbody>\n",
       "</table>\n",
       "<p>600000 rows × 27 columns</p>\n",
       "</div>"
      ],
      "text/plain": [
       "        YEAR  MONTH  DAY_OF_MONTH  DAY_OF_WEEK     FL_DATE  AIRLINE_ID  \\\n",
       "0       2017      1            18            3  2017-01-18       19977   \n",
       "1       2017      1            19            4  2017-01-19       20366   \n",
       "2       2017      1            22            7  2017-01-22       19393   \n",
       "3       2017      1            12            4  2017-01-12       19790   \n",
       "4       2017      1            30            1  2017-01-30       20409   \n",
       "...      ...    ...           ...          ...         ...         ...   \n",
       "599995  2017     12             6            3  2017-12-06       19690   \n",
       "599996  2017     12             4            1  2017-12-04       20409   \n",
       "599997  2017     12            22            5  2017-12-22       20436   \n",
       "599998  2017     12            22            5  2017-12-22       19805   \n",
       "599999  2017     12            10            7  2017-12-10       19977   \n",
       "\n",
       "       TAIL_NUM ORIGIN  ORIGIN_CITY_NAME ORIGIN_STATE_NM  ... CRS_ARR_TIME  \\\n",
       "0        N426UA    RNO          Reno, NV          Nevada  ...          903   \n",
       "1        N371CA    LGA      New York, NY        New York  ...         2242   \n",
       "2        N7829B    BWI     Baltimore, MD        Maryland  ...         1230   \n",
       "3        N915AT    JFK      New York, NY        New York  ...         1135   \n",
       "4        N659JB    MCO       Orlando, FL         Florida  ...         1405   \n",
       "...         ...    ...               ...             ...  ...          ...   \n",
       "599995   N489HA    ITO          Hilo, HI          Hawaii  ...         1052   \n",
       "599996   N639JB    LGB    Long Beach, CA      California  ...         1822   \n",
       "599997   N721FR    LAS     Las Vegas, NV          Nevada  ...          507   \n",
       "599998   N112AA    PHL  Philadelphia, PA    Pennsylvania  ...         2204   \n",
       "599999   N73270    MCO       Orlando, FL         Florida  ...         1007   \n",
       "\n",
       "       ARR_TIME CANCELLED  DIVERTED  CRS_ELAPSED_TIME  ACTUAL_ELAPSED_TIME  \\\n",
       "0         844.0       0.0       0.0             138.0                130.0   \n",
       "1        2236.0       0.0       0.0             222.0                189.0   \n",
       "2        1254.0       0.0       0.0              60.0                 53.0   \n",
       "3        1112.0       0.0       0.0             145.0                131.0   \n",
       "4        1354.0       0.0       0.0             159.0                154.0   \n",
       "...         ...       ...       ...               ...                  ...   \n",
       "599995   1038.0       0.0       0.0              41.0                 38.0   \n",
       "599996   1811.0       0.0       0.0             102.0                 93.0   \n",
       "599997    453.0       0.0       0.0             192.0                182.0   \n",
       "599998   2159.0       0.0       0.0              79.0                 65.0   \n",
       "599999    942.0       0.0       0.0             248.0                229.0   \n",
       "\n",
       "        AIR_TIME  DISTANCE  Code  Description  \n",
       "0          107.0     804.0     3    Wednesday  \n",
       "1          153.0    1107.0     4     Thursday  \n",
       "2           40.0     220.0     7       Sunday  \n",
       "3           97.0     636.0     4     Thursday  \n",
       "4          137.0    1072.0     1       Monday  \n",
       "...          ...       ...   ...          ...  \n",
       "599995      25.0     121.0     3    Wednesday  \n",
       "599996      78.0     588.0     1       Monday  \n",
       "599997     160.0    1371.0     5       Friday  \n",
       "599998      48.0     268.0     5       Friday  \n",
       "599999     213.0    1546.0     7       Sunday  \n",
       "\n",
       "[600000 rows x 27 columns]"
      ]
     },
     "execution_count": 21,
     "metadata": {},
     "output_type": "execute_result"
    }
   ],
   "source": [
    "merged"
   ]
  },
  {
   "cell_type": "code",
   "execution_count": 22,
   "metadata": {},
   "outputs": [],
   "source": [
    "#remove DAY_OF_WEEK and Code Columns (inplace=True)\n",
    "merged.drop(columns=['DAY_OF_WEEK','Code'],inplace=True)\n"
   ]
  },
  {
   "cell_type": "code",
   "execution_count": 23,
   "metadata": {},
   "outputs": [],
   "source": [
    "#rename Description -> DAY_OF_WEEK\n",
    "merged.rename(columns={'Description':'DAY_OF_WEEK'}, inplace=True)"
   ]
  },
  {
   "cell_type": "code",
   "execution_count": 25,
   "metadata": {},
   "outputs": [
    {
     "data": {
      "text/plain": [
       "Index(['YEAR', 'MONTH', 'DAY_OF_MONTH', 'FL_DATE', 'AIRLINE_ID', 'TAIL_NUM',\n",
       "       'ORIGIN', 'ORIGIN_CITY_NAME', 'ORIGIN_STATE_NM', 'DEST',\n",
       "       'DEST_CITY_NAME', 'DEST_STATE_NM', 'CRS_DEP_TIME', 'DEP_TIME',\n",
       "       'TAXI_OUT', 'TAXI_IN', 'CRS_ARR_TIME', 'ARR_TIME', 'CANCELLED',\n",
       "       'DIVERTED', 'CRS_ELAPSED_TIME', 'ACTUAL_ELAPSED_TIME', 'AIR_TIME',\n",
       "       'DISTANCE', 'DAY_OF_WEEK'],\n",
       "      dtype='object')"
      ]
     },
     "execution_count": 25,
     "metadata": {},
     "output_type": "execute_result"
    }
   ],
   "source": [
    "merged.columns"
   ]
  },
  {
   "cell_type": "markdown",
   "metadata": {},
   "source": [
    "Statistics"
   ]
  },
  {
   "cell_type": "code",
   "execution_count": 26,
   "metadata": {},
   "outputs": [],
   "source": [
    "import pandas as pd\n",
    "\n",
    "flights = pd.read_csv('flights.csv', index_col=False)"
   ]
  },
  {
   "cell_type": "code",
   "execution_count": 27,
   "metadata": {},
   "outputs": [
    {
     "name": "stdout",
     "output_type": "stream",
     "text": [
      "           YEAR          MONTH   DAY_OF_MONTH    DAY_OF_WEEK     AIRLINE_ID  \\\n",
      "count  600000.0  600000.000000  600000.000000  600000.000000  600000.000000   \n",
      "mean     2017.0       6.500000      15.754290       3.939985   19899.020618   \n",
      "std         0.0       3.452055       8.770601       1.992246     380.180746   \n",
      "min      2017.0       1.000000       1.000000       1.000000   19393.000000   \n",
      "25%      2017.0       3.750000       8.000000       2.000000   19790.000000   \n",
      "50%      2017.0       6.500000      16.000000       4.000000   19805.000000   \n",
      "75%      2017.0       9.250000      23.000000       6.000000   20304.000000   \n",
      "max      2017.0      12.000000      31.000000       7.000000   21171.000000   \n",
      "\n",
      "        CRS_DEP_TIME       DEP_TIME       TAXI_OUT        TAXI_IN  \\\n",
      "count  600000.000000  591710.000000  591515.000000  591269.000000   \n",
      "mean     1328.973407    1332.588608      16.759212       7.485439   \n",
      "std       490.607959     503.988007       9.355301       5.833366   \n",
      "min         1.000000       1.000000       1.000000       1.000000   \n",
      "25%       910.000000     914.000000      11.000000       4.000000   \n",
      "50%      1320.000000    1326.000000      14.000000       6.000000   \n",
      "75%      1735.000000    1743.000000      19.000000       9.000000   \n",
      "max      2359.000000    2400.000000     178.000000     399.000000   \n",
      "\n",
      "        CRS_ARR_TIME       ARR_TIME      CANCELLED       DIVERTED  \\\n",
      "count  600000.000000  591269.000000  600000.000000  600000.000000   \n",
      "mean     1489.233957    1468.596084       0.014208       0.002235   \n",
      "std       518.188347     537.495946       0.118349       0.047223   \n",
      "min         1.000000       1.000000       0.000000       0.000000   \n",
      "25%      1103.000000    1050.000000       0.000000       0.000000   \n",
      "50%      1519.000000    1509.000000       0.000000       0.000000   \n",
      "75%      1920.000000    1917.000000       0.000000       0.000000   \n",
      "max      2359.000000    2400.000000       1.000000       1.000000   \n",
      "\n",
      "       CRS_ELAPSED_TIME  ACTUAL_ELAPSED_TIME       AIR_TIME       DISTANCE  \n",
      "count     600000.000000        590134.000000  590134.000000  600000.000000  \n",
      "mean         146.938798           141.638726     117.404688     855.988945  \n",
      "std           77.090467            76.598316      74.224661     623.733127  \n",
      "min            1.000000            16.000000       8.000000      31.000000  \n",
      "25%           90.000000            84.000000      62.000000     391.000000  \n",
      "50%          128.000000           123.000000      98.000000     680.000000  \n",
      "75%          180.000000           175.000000     149.000000    1097.000000  \n",
      "max          718.000000           751.000000     711.000000    4983.000000  \n"
     ]
    }
   ],
   "source": [
    "print(flights.describe())"
   ]
  },
  {
   "cell_type": "code",
   "execution_count": 28,
   "metadata": {},
   "outputs": [
    {
     "name": "stdout",
     "output_type": "stream",
     "text": [
      "855.988945\n"
     ]
    }
   ],
   "source": [
    "print(flights['DISTANCE'].mean())"
   ]
  },
  {
   "cell_type": "code",
   "execution_count": 36,
   "metadata": {},
   "outputs": [],
   "source": [
    "#Final\n",
    "\n",
    "import pandas as pd\n",
    "import numpy as np\n",
    "import matplotlib.pyplot as plt\n",
    "from scipy.stats import linregress"
   ]
  },
  {
   "cell_type": "code",
   "execution_count": 33,
   "metadata": {},
   "outputs": [
    {
     "data": {
      "text/html": [
       "<div>\n",
       "<style scoped>\n",
       "    .dataframe tbody tr th:only-of-type {\n",
       "        vertical-align: middle;\n",
       "    }\n",
       "\n",
       "    .dataframe tbody tr th {\n",
       "        vertical-align: top;\n",
       "    }\n",
       "\n",
       "    .dataframe thead th {\n",
       "        text-align: right;\n",
       "    }\n",
       "</style>\n",
       "<table border=\"1\" class=\"dataframe\">\n",
       "  <thead>\n",
       "    <tr style=\"text-align: right;\">\n",
       "      <th></th>\n",
       "      <th>YEAR</th>\n",
       "      <th>MONTH</th>\n",
       "      <th>DAY_OF_MONTH</th>\n",
       "      <th>DAY_OF_WEEK</th>\n",
       "      <th>FL_DATE</th>\n",
       "      <th>AIRLINE_ID</th>\n",
       "      <th>TAIL_NUM</th>\n",
       "      <th>ORIGIN</th>\n",
       "      <th>ORIGIN_CITY_NAME</th>\n",
       "      <th>ORIGIN_STATE_NM</th>\n",
       "      <th>...</th>\n",
       "      <th>TAXI_OUT</th>\n",
       "      <th>TAXI_IN</th>\n",
       "      <th>CRS_ARR_TIME</th>\n",
       "      <th>ARR_TIME</th>\n",
       "      <th>CANCELLED</th>\n",
       "      <th>DIVERTED</th>\n",
       "      <th>CRS_ELAPSED_TIME</th>\n",
       "      <th>ACTUAL_ELAPSED_TIME</th>\n",
       "      <th>AIR_TIME</th>\n",
       "      <th>DISTANCE</th>\n",
       "    </tr>\n",
       "  </thead>\n",
       "  <tbody>\n",
       "    <tr>\n",
       "      <th>308267</th>\n",
       "      <td>2017</td>\n",
       "      <td>7</td>\n",
       "      <td>30</td>\n",
       "      <td>7</td>\n",
       "      <td>2017-07-30</td>\n",
       "      <td>19790</td>\n",
       "      <td>N940AT</td>\n",
       "      <td>MSP</td>\n",
       "      <td>Minneapolis, MN</td>\n",
       "      <td>Minnesota</td>\n",
       "      <td>...</td>\n",
       "      <td>22.0</td>\n",
       "      <td>6.0</td>\n",
       "      <td>1647</td>\n",
       "      <td>1635.0</td>\n",
       "      <td>0.0</td>\n",
       "      <td>0.0</td>\n",
       "      <td>157.0</td>\n",
       "      <td>153.0</td>\n",
       "      <td>125.0</td>\n",
       "      <td>930.0</td>\n",
       "    </tr>\n",
       "    <tr>\n",
       "      <th>485457</th>\n",
       "      <td>2017</td>\n",
       "      <td>10</td>\n",
       "      <td>16</td>\n",
       "      <td>1</td>\n",
       "      <td>2017-10-16</td>\n",
       "      <td>20416</td>\n",
       "      <td>N901NK</td>\n",
       "      <td>PHX</td>\n",
       "      <td>Phoenix, AZ</td>\n",
       "      <td>Arizona</td>\n",
       "      <td>...</td>\n",
       "      <td>14.0</td>\n",
       "      <td>4.0</td>\n",
       "      <td>500</td>\n",
       "      <td>511.0</td>\n",
       "      <td>0.0</td>\n",
       "      <td>0.0</td>\n",
       "      <td>130.0</td>\n",
       "      <td>125.0</td>\n",
       "      <td>107.0</td>\n",
       "      <td>868.0</td>\n",
       "    </tr>\n",
       "    <tr>\n",
       "      <th>580304</th>\n",
       "      <td>2017</td>\n",
       "      <td>12</td>\n",
       "      <td>15</td>\n",
       "      <td>5</td>\n",
       "      <td>2017-12-15</td>\n",
       "      <td>19790</td>\n",
       "      <td>N774DE</td>\n",
       "      <td>CVG</td>\n",
       "      <td>Cincinnati, OH</td>\n",
       "      <td>Kentucky</td>\n",
       "      <td>...</td>\n",
       "      <td>19.0</td>\n",
       "      <td>4.0</td>\n",
       "      <td>735</td>\n",
       "      <td>718.0</td>\n",
       "      <td>0.0</td>\n",
       "      <td>0.0</td>\n",
       "      <td>105.0</td>\n",
       "      <td>90.0</td>\n",
       "      <td>67.0</td>\n",
       "      <td>373.0</td>\n",
       "    </tr>\n",
       "    <tr>\n",
       "      <th>371995</th>\n",
       "      <td>2017</td>\n",
       "      <td>8</td>\n",
       "      <td>23</td>\n",
       "      <td>3</td>\n",
       "      <td>2017-08-23</td>\n",
       "      <td>20409</td>\n",
       "      <td>N947JB</td>\n",
       "      <td>JFK</td>\n",
       "      <td>New York, NY</td>\n",
       "      <td>New York</td>\n",
       "      <td>...</td>\n",
       "      <td>25.0</td>\n",
       "      <td>16.0</td>\n",
       "      <td>1624</td>\n",
       "      <td>1605.0</td>\n",
       "      <td>0.0</td>\n",
       "      <td>0.0</td>\n",
       "      <td>389.0</td>\n",
       "      <td>377.0</td>\n",
       "      <td>336.0</td>\n",
       "      <td>2586.0</td>\n",
       "    </tr>\n",
       "    <tr>\n",
       "      <th>568149</th>\n",
       "      <td>2017</td>\n",
       "      <td>12</td>\n",
       "      <td>15</td>\n",
       "      <td>5</td>\n",
       "      <td>2017-12-15</td>\n",
       "      <td>19977</td>\n",
       "      <td>N16217</td>\n",
       "      <td>ORD</td>\n",
       "      <td>Chicago, IL</td>\n",
       "      <td>Illinois</td>\n",
       "      <td>...</td>\n",
       "      <td>21.0</td>\n",
       "      <td>9.0</td>\n",
       "      <td>2241</td>\n",
       "      <td>2248.0</td>\n",
       "      <td>0.0</td>\n",
       "      <td>0.0</td>\n",
       "      <td>86.0</td>\n",
       "      <td>97.0</td>\n",
       "      <td>67.0</td>\n",
       "      <td>334.0</td>\n",
       "    </tr>\n",
       "  </tbody>\n",
       "</table>\n",
       "<p>5 rows × 25 columns</p>\n",
       "</div>"
      ],
      "text/plain": [
       "        YEAR  MONTH  DAY_OF_MONTH  DAY_OF_WEEK     FL_DATE  AIRLINE_ID  \\\n",
       "308267  2017      7            30            7  2017-07-30       19790   \n",
       "485457  2017     10            16            1  2017-10-16       20416   \n",
       "580304  2017     12            15            5  2017-12-15       19790   \n",
       "371995  2017      8            23            3  2017-08-23       20409   \n",
       "568149  2017     12            15            5  2017-12-15       19977   \n",
       "\n",
       "       TAIL_NUM ORIGIN ORIGIN_CITY_NAME ORIGIN_STATE_NM  ... TAXI_OUT TAXI_IN  \\\n",
       "308267   N940AT    MSP  Minneapolis, MN       Minnesota  ...     22.0     6.0   \n",
       "485457   N901NK    PHX      Phoenix, AZ         Arizona  ...     14.0     4.0   \n",
       "580304   N774DE    CVG   Cincinnati, OH        Kentucky  ...     19.0     4.0   \n",
       "371995   N947JB    JFK     New York, NY        New York  ...     25.0    16.0   \n",
       "568149   N16217    ORD      Chicago, IL        Illinois  ...     21.0     9.0   \n",
       "\n",
       "       CRS_ARR_TIME  ARR_TIME  CANCELLED  DIVERTED  CRS_ELAPSED_TIME  \\\n",
       "308267         1647    1635.0        0.0       0.0             157.0   \n",
       "485457          500     511.0        0.0       0.0             130.0   \n",
       "580304          735     718.0        0.0       0.0             105.0   \n",
       "371995         1624    1605.0        0.0       0.0             389.0   \n",
       "568149         2241    2248.0        0.0       0.0              86.0   \n",
       "\n",
       "        ACTUAL_ELAPSED_TIME  AIR_TIME  DISTANCE  \n",
       "308267                153.0     125.0     930.0  \n",
       "485457                125.0     107.0     868.0  \n",
       "580304                 90.0      67.0     373.0  \n",
       "371995                377.0     336.0    2586.0  \n",
       "568149                 97.0      67.0     334.0  \n",
       "\n",
       "[5 rows x 25 columns]"
      ]
     },
     "execution_count": 33,
     "metadata": {},
     "output_type": "execute_result"
    }
   ],
   "source": [
    "flights_subsample = flights.sample(1000)\n",
    "flights_subsample.head()"
   ]
  },
  {
   "cell_type": "code",
   "execution_count": 37,
   "metadata": {},
   "outputs": [
    {
     "data": {
      "image/png": "[encoded data removed]",
      "text/plain": [
       "<Figure size 640x480 with 1 Axes>"
      ]
     },
     "metadata": {},
     "output_type": "display_data"
    }
   ],
   "source": [
    "plt.scatter(flights_subsample['DISTANCE'], flights_subsample['CRS_ELAPSED_TIME'])\n",
    "plt.show()"
   ]
  },
  {
   "cell_type": "code",
   "execution_count": 39,
   "metadata": {},
   "outputs": [
    {
     "name": "stdout",
     "output_type": "stream",
     "text": [
      "y = 0.12322990845505087x + 41.62467136312651;r=0.9861437636838701\n"
     ]
    }
   ],
   "source": [
    "#Perform Linear Regression\n",
    "\n",
    "slope, intercept, r_value, _,_ = linregress(flights_subsample['DISTANCE'], flights_subsample['CRS_ELAPSED_TIME'])\n",
    "print('y = {}x + {};r={}'.format(slope, intercept, r_value))"
   ]
  },
  {
   "cell_type": "code",
   "execution_count": 42,
   "metadata": {},
   "outputs": [],
   "source": [
    "#generate X values to feed into the line\n",
    "\n",
    "x = np.linspace(flights_subsample['DISTANCE'].min(),flights_subsample['DISTANCE'].max(), 1000)\n",
    "y = x*slope+intercept"
   ]
  },
  {
   "cell_type": "code",
   "execution_count": 45,
   "metadata": {},
   "outputs": [
    {
     "data": {
      "text/plain": [
       "[<matplotlib.lines.Line2D at 0x1df6c07f0d0>]"
      ]
     },
     "execution_count": 45,
     "metadata": {},
     "output_type": "execute_result"
    },
    {
     "data": {
      "image/png": "[encoded data removed]",
      "text/plain": [
       "<Figure size 640x480 with 1 Axes>"
      ]
     },
     "metadata": {},
     "output_type": "display_data"
    }
   ],
   "source": [
    "plt.plot(x,y, 'r--')"
   ]
  },
  {
   "cell_type": "code",
   "execution_count": 47,
   "metadata": {},
   "outputs": [
    {
     "data": {
      "image/png": "[encoded data removed]",
      "text/plain": [
       "<Figure size 640x480 with 1 Axes>"
      ]
     },
     "metadata": {},
     "output_type": "display_data"
    }
   ],
   "source": [
    "plt.scatter(flights_subsample['DISTANCE'], flights_subsample['CRS_ELAPSED_TIME'])\n",
    "plt.plot(x,y, 'r--')\n",
    "plt.show()"
   ]
  }
 ],
 "metadata": {
  "kernelspec": {
   "display_name": "Python 3",
   "language": "python",
   "name": "python3"
  },
  "language_info": {
   "codemirror_mode": {
    "name": "ipython",
    "version": 3
   },
   "file_extension": ".py",
   "mimetype": "text/x-python",
   "name": "python",
   "nbconvert_exporter": "python",
   "pygments_lexer": "ipython3",
   "version": "3.11.9"
  }
 },
 "nbformat": 4,
 "nbformat_minor": 2
}
