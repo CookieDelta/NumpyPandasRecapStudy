{
 "cells": [
  {
   "cell_type": "markdown",
   "id": "535d609b-91f1-4771-9764-d63022ab87ff",
   "metadata": {},
   "source": [
    "## 1. Creating NumPy Arrays"
   ]
  },
  {
   "cell_type": "code",
   "execution_count": 4,
   "id": "964bb154-0263-4778-831b-343a2a1f9903",
   "metadata": {},
   "outputs": [
    {
     "name": "stdout",
     "output_type": "stream",
     "text": [
      "[1, 2, 3]\n"
     ]
    }
   ],
   "source": [
    "list_1 = [1,2,3]\n",
    "print(list_1)"
   ]
  },
  {
   "cell_type": "code",
   "execution_count": 6,
   "id": "eea0634b-2e11-496b-a529-30a9d62d53b9",
   "metadata": {},
   "outputs": [],
   "source": [
    "import numpy as np"
   ]
  },
  {
   "cell_type": "code",
   "execution_count": 10,
   "id": "a4bcda36-fbdc-4a89-931d-9fd45c4be8b6",
   "metadata": {},
   "outputs": [
    {
     "name": "stdout",
     "output_type": "stream",
     "text": [
      "[1 2 3]\n"
     ]
    }
   ],
   "source": [
    "numpy_1 = np.array(list_1) #converts list in np array\n",
    "print(numpy_1)"
   ]
  },
  {
   "cell_type": "code",
   "execution_count": 12,
   "id": "843a9c23-64c5-4ae1-93f9-26cb62963984",
   "metadata": {},
   "outputs": [
    {
     "name": "stdout",
     "output_type": "stream",
     "text": [
      "[0. 0. 0. 0. 0.]\n"
     ]
    }
   ],
   "source": [
    "#we can create zeroes or ones arrays\n",
    "zeroes_array = np.zeros(5)\n",
    "print(zeroes_array)"
   ]
  },
  {
   "cell_type": "code",
   "execution_count": 14,
   "id": "6d0b6559-205a-41b1-8eaa-5950374fa446",
   "metadata": {},
   "outputs": [
    {
     "name": "stdout",
     "output_type": "stream",
     "text": [
      "[1. 1. 1. 1. 1. 1. 1. 1. 1. 1.]\n"
     ]
    }
   ],
   "source": [
    "ones_array = np.ones(10)\n",
    "print(ones_array)"
   ]
  },
  {
   "cell_type": "code",
   "execution_count": 24,
   "id": "4ab4536c-a24e-44e6-8520-500fc84f3592",
   "metadata": {},
   "outputs": [
    {
     "name": "stdout",
     "output_type": "stream",
     "text": [
      "[0 1 2 3 4]\n"
     ]
    }
   ],
   "source": [
    "#We can also set a range of values\n",
    "range_array_1 = np.arange(5)  #until 5th element\n",
    "print(range_array_1)"
   ]
  },
  {
   "cell_type": "code",
   "execution_count": 28,
   "id": "d321806f-43bb-4168-8f00-6536ff50c95a",
   "metadata": {},
   "outputs": [
    {
     "name": "stdout",
     "output_type": "stream",
     "text": [
      "[ 5  6  7  8  9 10]\n"
     ]
    }
   ],
   "source": [
    "range_array_2 = np.arange(5,11)  #from 5th until 10th element\n",
    "print(range_array_2)"
   ]
  },
  {
   "cell_type": "code",
   "execution_count": 34,
   "id": "ae328877-8728-4c23-9154-94f362f8e839",
   "metadata": {},
   "outputs": [
    {
     "name": "stdout",
     "output_type": "stream",
     "text": [
      "[ 0  2  4  6  8 10 12 14 16 18]\n"
     ]
    }
   ],
   "source": [
    "range_array_3 = np.arange(0,20,2)  #from 1st until 20th element in steps of 2\n",
    "print(range_array_3)"
   ]
  },
  {
   "cell_type": "code",
   "execution_count": 44,
   "id": "8dbf84a4-8848-4f95-9d58-b99bed7ada4f",
   "metadata": {},
   "outputs": [
    {
     "name": "stdout",
     "output_type": "stream",
     "text": [
      "[ 0.   2.5  5.   7.5 10. ]\n"
     ]
    }
   ],
   "source": [
    "linspace_array = np.linspace(0,10,5)  #linspace generates an array from first parameter to second parameter, inclusive\n",
    "print(linspace_array)"
   ]
  },
  {
   "cell_type": "markdown",
   "id": "984f4f40-ed58-4c57-aa28-090c41ad0c3e",
   "metadata": {},
   "source": [
    "## 2. Fetch Operations"
   ]
  },
  {
   "cell_type": "code",
   "execution_count": 52,
   "id": "56f1eafb-3363-464d-97c5-085bf3dd87a7",
   "metadata": {},
   "outputs": [
    {
     "name": "stdout",
     "output_type": "stream",
     "text": [
      "[ 0  1  2  3  4  5  6  7  8  9 10]\n"
     ]
    }
   ],
   "source": [
    "an_array = np.arange(0,11)\n",
    "print(an_array)"
   ]
  },
  {
   "cell_type": "code",
   "execution_count": 58,
   "id": "edbdcdcc-9a84-46a1-8c6c-ff07465a051b",
   "metadata": {},
   "outputs": [
    {
     "data": {
      "text/plain": [
       "0"
      ]
     },
     "execution_count": 58,
     "metadata": {},
     "output_type": "execute_result"
    }
   ],
   "source": [
    "an_array[0] #call by index of array"
   ]
  },
  {
   "cell_type": "code",
   "execution_count": 60,
   "id": "24a411b0-7cba-4651-9645-a9fe742d6a2a",
   "metadata": {},
   "outputs": [
    {
     "name": "stdout",
     "output_type": "stream",
     "text": [
      "[0 1 2 3 4]\n"
     ]
    }
   ],
   "source": [
    "first_five = an_array[:5]\n",
    "print(first_five)"
   ]
  },
  {
   "cell_type": "code",
   "execution_count": 68,
   "id": "463b0ac8-0e94-4518-a033-10868f655916",
   "metadata": {},
   "outputs": [
    {
     "name": "stdout",
     "output_type": "stream",
     "text": [
      "[4 3 2 1 0]\n"
     ]
    }
   ],
   "source": [
    "first_five_reversed = an_array[4::-1] #from, until, in this order (if 1 there, prints an empty array\n",
    "print(first_five_reversed)"
   ]
  },
  {
   "cell_type": "code",
   "execution_count": 74,
   "id": "1b8334b5-f0fc-406d-b7c9-a8afaf558d13",
   "metadata": {},
   "outputs": [
    {
     "name": "stdout",
     "output_type": "stream",
     "text": [
      "[ 9 10]\n"
     ]
    }
   ],
   "source": [
    "final_two = an_array[-2:] #from the one before last, until it finishes\n",
    "print(final_two)"
   ]
  },
  {
   "cell_type": "code",
   "execution_count": 78,
   "id": "96480978-83af-47f9-a402-a71439b926bc",
   "metadata": {},
   "outputs": [
    {
     "name": "stdout",
     "output_type": "stream",
     "text": [
      "11\n"
     ]
    }
   ],
   "source": [
    "#properties of an array\n",
    "print(an_array.size) #number of elements"
   ]
  },
  {
   "cell_type": "code",
   "execution_count": 80,
   "id": "3e99b0f1-bc78-4924-b0de-23f4a8f5d6e2",
   "metadata": {},
   "outputs": [
    {
     "name": "stdout",
     "output_type": "stream",
     "text": [
      "10\n"
     ]
    }
   ],
   "source": [
    "np.amax(an_array) #max_value\n",
    "#np.amin() #min_value\n",
    "#np.average() #min_value\n",
    "\n",
    "print(np.amax(an_array))"
   ]
  },
  {
   "cell_type": "markdown",
   "id": "6eb700a6",
   "metadata": {},
   "source": [
    "## Matrix Fetch operations"
   ]
  },
  {
   "cell_type": "code",
   "execution_count": 1,
   "id": "ab0ac3f3",
   "metadata": {},
   "outputs": [],
   "source": [
    "import numpy as np"
   ]
  },
  {
   "cell_type": "code",
   "execution_count": 2,
   "id": "2437482b",
   "metadata": {},
   "outputs": [
    {
     "name": "stdout",
     "output_type": "stream",
     "text": [
      "[[1 2 3]\n",
      " [4 5 6]\n",
      " [7 8 9]]\n"
     ]
    }
   ],
   "source": [
    "a_matrix = np.matrix([[1,2,3],[4,5,6],[7,8,9]])\n",
    "print(a_matrix)"
   ]
  },
  {
   "cell_type": "code",
   "execution_count": 4,
   "id": "822fc9f5",
   "metadata": {},
   "outputs": [
    {
     "name": "stdout",
     "output_type": "stream",
     "text": [
      "[[1 2 3]]\n"
     ]
    }
   ],
   "source": [
    "print(a_matrix[0]) #returns an array of an array"
   ]
  },
  {
   "cell_type": "code",
   "execution_count": 5,
   "id": "24da6ad2",
   "metadata": {},
   "outputs": [
    {
     "name": "stdout",
     "output_type": "stream",
     "text": [
      "4\n"
     ]
    }
   ],
   "source": [
    "#now, if we want a single element, like the number 4 inside the matrix\n",
    "print(a_matrix[1,0]) #second row, first element"
   ]
  },
  {
   "cell_type": "code",
   "execution_count": 8,
   "id": "27ce5cf5",
   "metadata": {},
   "outputs": [
    {
     "name": "stdout",
     "output_type": "stream",
     "text": [
      "[[8 9]]\n"
     ]
    }
   ],
   "source": [
    "#now if we want multiple elements\n",
    "print(a_matrix[2,1:3])"
   ]
  },
  {
   "cell_type": "code",
   "execution_count": 16,
   "id": "93aa41d2",
   "metadata": {},
   "outputs": [
    {
     "name": "stdout",
     "output_type": "stream",
     "text": [
      "9\n",
      "(3, 3)\n"
     ]
    }
   ],
   "source": [
    "#Matrix specific properties\n",
    "print(a_matrix.size) #Total number of individual elements\n",
    "print(a_matrix.shape) #rows, columns"
   ]
  },
  {
   "cell_type": "code",
   "execution_count": 19,
   "id": "b4a40f2e",
   "metadata": {},
   "outputs": [
    {
     "name": "stdout",
     "output_type": "stream",
     "text": [
      "9\n",
      "1\n",
      "5.0\n"
     ]
    }
   ],
   "source": [
    "print(np.amax(a_matrix)) #returns the max value\n",
    "print(np.amin(a_matrix)) #returns the min value\n",
    "print(np.average(a_matrix)) #returns the average"
   ]
  },
  {
   "cell_type": "code",
   "execution_count": 22,
   "id": "ddf6723b",
   "metadata": {},
   "outputs": [
    {
     "name": "stdout",
     "output_type": "stream",
     "text": [
      "9\n",
      "1\n",
      "5.0\n"
     ]
    }
   ],
   "source": [
    "#other way of having the same results\n",
    "print(a_matrix.max())\n",
    "print(a_matrix.min())\n",
    "print(a_matrix.mean())"
   ]
  },
  {
   "cell_type": "markdown",
   "id": "9dfc5be7",
   "metadata": {},
   "source": [
    "## Numpy modification functions"
   ]
  },
  {
   "cell_type": "code",
   "execution_count": 24,
   "id": "a88def5a",
   "metadata": {},
   "outputs": [],
   "source": [
    "import numpy as np"
   ]
  },
  {
   "cell_type": "code",
   "execution_count": 26,
   "id": "ec555491",
   "metadata": {},
   "outputs": [
    {
     "name": "stdout",
     "output_type": "stream",
     "text": [
      "[[1 2]\n",
      " [3 4]]\n"
     ]
    }
   ],
   "source": [
    "a_matrix = np.matrix([[1,2],[3,4]])\n",
    "print(a_matrix)"
   ]
  },
  {
   "cell_type": "code",
   "execution_count": 28,
   "id": "9eb93a5e",
   "metadata": {},
   "outputs": [
    {
     "name": "stdout",
     "output_type": "stream",
     "text": [
      "[[ 1  2]\n",
      " [10  4]]\n"
     ]
    }
   ],
   "source": [
    "a_matrix[1,0] = 10 #second vector, row zero\n",
    "print(a_matrix)"
   ]
  },
  {
   "cell_type": "code",
   "execution_count": 30,
   "id": "db8287b1",
   "metadata": {},
   "outputs": [
    {
     "name": "stdout",
     "output_type": "stream",
     "text": [
      "[[ 6  3]\n",
      " [10  4]]\n"
     ]
    }
   ],
   "source": [
    "a_matrix[0] = [6,3] #change entire first row\n",
    "print(a_matrix)"
   ]
  },
  {
   "cell_type": "code",
   "execution_count": 31,
   "id": "d639e18e",
   "metadata": {},
   "outputs": [
    {
     "name": "stdout",
     "output_type": "stream",
     "text": [
      "[[ 3  6]\n",
      " [ 4 10]]\n"
     ]
    }
   ],
   "source": [
    "print(np.sort(a_matrix)) #sort ascending"
   ]
  },
  {
   "cell_type": "code",
   "execution_count": 32,
   "id": "4a861125",
   "metadata": {},
   "outputs": [
    {
     "name": "stdout",
     "output_type": "stream",
     "text": [
      "[[ 6  3]\n",
      " [10  4]]\n"
     ]
    }
   ],
   "source": [
    "print(-np.sort(-a_matrix)) #sort descending"
   ]
  },
  {
   "cell_type": "code",
   "execution_count": 33,
   "id": "b2e76c0b",
   "metadata": {},
   "outputs": [
    {
     "name": "stdout",
     "output_type": "stream",
     "text": [
      "[[1 3]\n",
      " [2 4]]\n"
     ]
    }
   ],
   "source": [
    "#transpose\n",
    "a_matrix = np.matrix([[1,2],[3,4]])\n",
    "print(a_matrix.T)"
   ]
  },
  {
   "cell_type": "code",
   "execution_count": 34,
   "id": "4f207f48",
   "metadata": {},
   "outputs": [
    {
     "name": "stdout",
     "output_type": "stream",
     "text": [
      "[[1 2 3 4]]\n"
     ]
    }
   ],
   "source": [
    "print(a_matrix.flatten())"
   ]
  },
  {
   "cell_type": "code",
   "execution_count": 36,
   "id": "8e5428dd",
   "metadata": {},
   "outputs": [
    {
     "name": "stdout",
     "output_type": "stream",
     "text": [
      "[[2 4]\n",
      " [6 8]]\n"
     ]
    }
   ],
   "source": [
    "print(a_matrix *2)"
   ]
  },
  {
   "cell_type": "code",
   "execution_count": 37,
   "id": "2b273189",
   "metadata": {},
   "outputs": [
    {
     "name": "stdout",
     "output_type": "stream",
     "text": [
      "[[2 4]\n",
      " [6 8]]\n"
     ]
    }
   ],
   "source": [
    "#numpy add function\n",
    "print(np.add(a_matrix, a_matrix))"
   ]
  },
  {
   "cell_type": "code",
   "execution_count": 38,
   "id": "092c990b",
   "metadata": {},
   "outputs": [
    {
     "name": "stdout",
     "output_type": "stream",
     "text": [
      "[[ 7 10]\n",
      " [15 22]]\n"
     ]
    }
   ],
   "source": [
    "#matrix multiplication\n",
    "print(np.matmul(a_matrix,a_matrix))"
   ]
  }
 ],
 "metadata": {
  "kernelspec": {
   "display_name": "Python 3 (ipykernel)",
   "language": "python",
   "name": "python3"
  },
  "language_info": {
   "codemirror_mode": {
    "name": "ipython",
    "version": 3
   },
   "file_extension": ".py",
   "mimetype": "text/x-python",
   "name": "python",
   "nbconvert_exporter": "python",
   "pygments_lexer": "ipython3",
   "version": "3.11.9"
  }
 },
 "nbformat": 4,
 "nbformat_minor": 5
}
